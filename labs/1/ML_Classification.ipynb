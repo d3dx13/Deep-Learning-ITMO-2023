{
 "cells": [
  {
   "cell_type": "markdown",
   "metadata": {
    "collapsed": true
   },
   "source": [
    "# Lab work on MNIST classification using multiple machine learning algorithms \n",
    "\n",
    "**Objective of the work**.\n",
    "\n",
    "The purpose of this lab work is to learn multiple machine learning algorithms for classifying handwritten digit images from a MNIST dataset.\n",
    "\n",
    "**Work Objectives**.\n",
    "\n",
    "* Study the MNIST dataset and its structure\n",
    "* Study and implement **some** machine learning algorithms for MNIST classification\n",
    "* Train models on the MNIST dataset\n",
    "* Evaluate the performance of the models and compare the results\n",
    "* Suggest improvements and optimizations for the models\n",
    "\n",
    "**MNIST dataset**.\n",
    "\n",
    "The MNIST dataset is a standard dataset for pattern recognition tasks. It consists of 70,000 handwritten digit images from 0 to 9, each image is 28x28 pixels."
   ]
  },
  {
   "cell_type": "markdown",
   "metadata": {},
   "source": [
    "## Import libraries\n",
    "\n",
    "To work with data and models, we need the following libraries:\n",
    "\n",
    "* numpy\n",
    "* pandas\n",
    "* matplotlib\n",
    "* scikit-learn"
   ]
  },
  {
   "cell_type": "code",
   "execution_count": 1,
   "metadata": {},
   "outputs": [
    {
     "name": "stderr",
     "output_type": "stream",
     "text": [
      "2023-04-24 16:42:56.600125: I tensorflow/core/util/port.cc:110] oneDNN custom operations are on. You may see slightly different numerical results due to floating-point round-off errors from different computation orders. To turn them off, set the environment variable `TF_ENABLE_ONEDNN_OPTS=0`.\n",
      "2023-04-24 16:42:56.964039: I tensorflow/core/platform/cpu_feature_guard.cc:182] This TensorFlow binary is optimized to use available CPU instructions in performance-critical operations.\n",
      "To enable the following instructions: AVX2 AVX_VNNI FMA, in other operations, rebuild TensorFlow with the appropriate compiler flags.\n",
      "2023-04-24 16:42:57.589379: W tensorflow/compiler/tf2tensorrt/utils/py_utils.cc:38] TF-TRT Warning: Could not find TensorRT\n"
     ]
    },
    {
     "name": "stdout",
     "output_type": "stream",
     "text": [
      "Running on Python 3.8.10 (default, Mar 13 2023, 10:26:41) \n",
      "[GCC 9.4.0], Tensorflow 2.12.0.\n",
      "Num GPUs Available:  1\n",
      "{'compute_capability': (8, 6), 'device_name': 'NVIDIA GeForce RTX 3080 Laptop GPU'}\n"
     ]
    },
    {
     "name": "stderr",
     "output_type": "stream",
     "text": [
      "2023-04-24 16:42:58.464274: I tensorflow/compiler/xla/stream_executor/cuda/cuda_gpu_executor.cc:996] successful NUMA node read from SysFS had negative value (-1), but there must be at least one NUMA node, so returning NUMA node zero. See more at https://github.com/torvalds/linux/blob/v6.0/Documentation/ABI/testing/sysfs-bus-pci#L344-L355\n",
      "2023-04-24 16:42:58.613552: I tensorflow/compiler/xla/stream_executor/cuda/cuda_gpu_executor.cc:996] successful NUMA node read from SysFS had negative value (-1), but there must be at least one NUMA node, so returning NUMA node zero. See more at https://github.com/torvalds/linux/blob/v6.0/Documentation/ABI/testing/sysfs-bus-pci#L344-L355\n",
      "2023-04-24 16:42:58.613778: I tensorflow/compiler/xla/stream_executor/cuda/cuda_gpu_executor.cc:996] successful NUMA node read from SysFS had negative value (-1), but there must be at least one NUMA node, so returning NUMA node zero. See more at https://github.com/torvalds/linux/blob/v6.0/Documentation/ABI/testing/sysfs-bus-pci#L344-L355\n",
      "2023-04-24 16:42:58.674142: I tensorflow/compiler/xla/stream_executor/cuda/cuda_gpu_executor.cc:996] successful NUMA node read from SysFS had negative value (-1), but there must be at least one NUMA node, so returning NUMA node zero. See more at https://github.com/torvalds/linux/blob/v6.0/Documentation/ABI/testing/sysfs-bus-pci#L344-L355\n"
     ]
    }
   ],
   "source": [
    "from IPython.display import clear_output\n",
    "\n",
    "import numpy as np\n",
    "import pandas as pd\n",
    "import matplotlib.pyplot as plt\n",
    "\n",
    "from tensorflow import keras\n",
    "import tensorflow as tf\n",
    "for device in tf.config.list_physical_devices('GPU'):\n",
    "    tf.config.experimental.set_memory_growth(device, False)\n",
    "\n",
    "import sys\n",
    "import os\n",
    "import gc\n",
    "\n",
    "%matplotlib inline\n",
    "gc.collect()\n",
    "\n",
    "physical_devices = tf.config.experimental.list_physical_devices('GPU')\n",
    "config = tf.config.experimental.set_memory_growth(physical_devices[0], True)\n",
    "print(f'Running on Python {sys.version}, Tensorflow {tf.__version__}.')\n",
    "print(\"Num GPUs Available: \", len(tf.config.list_physical_devices('GPU')))\n",
    "\n",
    "gpu_devices = tf.config.list_physical_devices('GPU')\n",
    "if gpu_devices:\n",
    "    details = tf.config.experimental.get_device_details(gpu_devices[0])\n",
    "    print(details)\n",
    "\n",
    "tf.debugging.set_log_device_placement(False)"
   ]
  },
  {
   "cell_type": "markdown",
   "metadata": {},
   "source": [
    "Load dataset"
   ]
  },
  {
   "cell_type": "code",
   "execution_count": 2,
   "metadata": {},
   "outputs": [
    {
     "name": "stdout",
     "output_type": "stream",
     "text": [
      "{0: '0', 1: '1', 2: '2', 3: '3', 4: '4', 5: '5', 6: '6', 7: '7', 8: '8', 9: '9', 10: 'A', 11: 'B', 12: 'C', 13: 'D', 14: 'E', 15: 'F', 16: 'G', 17: 'H', 18: 'I', 19: 'J', 20: 'K', 21: 'L', 22: 'M', 23: 'N', 24: 'O', 25: 'P', 26: 'Q', 27: 'R', 28: 'S', 29: 'T', 30: 'U', 31: 'V', 32: 'W', 33: 'X', 34: 'Y', 35: 'Z', 36: 'a', 37: 'b', 38: 'c', 39: 'd', 40: 'e', 41: 'f', 42: 'g', 43: 'h', 44: 'i', 45: 'j', 46: 'k', 47: 'l', 48: 'm', 49: 'n', 50: 'o', 51: 'p', 52: 'q', 53: 'r', 54: 's', 55: 't', 56: 'u', 57: 'v', 58: 'w', 59: 'x', 60: 'y', 61: 'z'}\n"
     ]
    }
   ],
   "source": [
    "num_workers = 0\n",
    "batch_size = 1000\n",
    "valid_size = 0.2\n",
    "\n",
    "MODEL_NAME = \"models/SimpleNet\"\n",
    "DATASET_NAME = \"byclass\"\n",
    "\n",
    "train_data_path = f'../../input/emnist/emnist-{DATASET_NAME}-train.csv'\n",
    "test_data_path = f'../../input/emnist/emnist-{DATASET_NAME}-test.csv'\n",
    "mapping_data_path = f'../../input/emnist/emnist-{DATASET_NAME}-mapping.txt'\n",
    "\n",
    "with open(mapping_data_path, 'r') as f:\n",
    "    lines = f.readlines()\n",
    "\n",
    "class_mapping = {}\n",
    "\n",
    "for line in lines:\n",
    "    parts = line.strip().split(' ')\n",
    "    class_mapping[int(parts[0])] = chr(int(parts[1]))\n",
    "print(class_mapping)"
   ]
  },
  {
   "cell_type": "code",
   "execution_count": 3,
   "metadata": {},
   "outputs": [
    {
     "name": "stdout",
     "output_type": "stream",
     "text": [
      "Dataset shape before: (814255, 785)\n",
      "Dataset classes before: 0123456789ABCDEFGHIJKLMNOPQRSTUVWXYZabcdefghijklmnopqrstuvwxyz\n"
     ]
    }
   ],
   "source": [
    "mnist_train = pd.read_csv(train_data_path, header=None, engine=\"pyarrow\")\n",
    "mnist_test = pd.read_csv(test_data_path, header=None, engine=\"pyarrow\")\n",
    "mnist_dataset = pd.concat([mnist_train, mnist_test])\n",
    "print(f\"Dataset shape before: {mnist_dataset.shape}\")\n",
    "print(f\"Dataset classes before: {''.join(str(class_mapping[key]) for key in sorted(mnist_dataset[0].unique()) if isinstance(class_mapping[key], str))}\")"
   ]
  },
  {
   "cell_type": "code",
   "execution_count": 4,
   "metadata": {},
   "outputs": [
    {
     "name": "stdout",
     "output_type": "stream",
     "text": [
      "Dataset now before: (174493, 785)\n",
      "Dataset now before: ABCDEFGHIJKLMNOPQRSTUVWXYZ\n",
      "{0: 'A', 1: 'B', 2: 'C', 3: 'D', 4: 'E', 5: 'F', 6: 'G', 7: 'H', 8: 'I', 9: 'J', 10: 'K', 11: 'L', 12: 'M', 13: 'N', 14: 'O', 15: 'P', 16: 'Q', 17: 'R', 18: 'S', 19: 'T', 20: 'U', 21: 'V', 22: 'W', 23: 'X', 24: 'Y', 25: 'Z'}\n"
     ]
    }
   ],
   "source": [
    "mnist_dataset = mnist_dataset.drop(mnist_dataset[9 >= mnist_dataset[0]].index)\n",
    "mnist_dataset = mnist_dataset.drop(mnist_dataset[36 <= mnist_dataset[0]].index)\n",
    "mnist_dataset[0] = mnist_dataset[0] - 10\n",
    "class_mapping = {k - 10: v for k, v in class_mapping.items() if k > 9 and k < 26 + 10}\n",
    "\n",
    "print(f\"Dataset now before: {mnist_dataset.shape}\")\n",
    "print(f\"Dataset now before: {''.join(str(class_mapping[key]) for key in sorted(mnist_dataset[0].unique()) if isinstance(class_mapping[key], str))}\")\n",
    "print(class_mapping)"
   ]
  },
  {
   "cell_type": "code",
   "execution_count": 5,
   "metadata": {},
   "outputs": [
    {
     "name": "stdout",
     "output_type": "stream",
     "text": [
      "Total amount of classes: 26\n",
      "Total amount of data rows: 174493\n",
      "Input image size: 28x28\n",
      "(174493, 28, 28, 1)\n",
      "(174493, 26)\n"
     ]
    }
   ],
   "source": [
    "num_classes = len(mnist_dataset[0].unique())\n",
    "print(f\"Total amount of classes: {num_classes}\")\n",
    "\n",
    "data_rows = len(mnist_dataset)\n",
    "print(f\"Total amount of data rows: {data_rows}\")\n",
    "\n",
    "image_size = int(np.sqrt(len(mnist_dataset.iloc[0][1:])))\n",
    "print(f\"Input image size: {image_size}x{image_size}\")\n",
    "\n",
    "# Images need to be transposed. This line also does the reshaping needed.\n",
    "images = np.transpose(mnist_dataset.values[:,1:].reshape(data_rows, image_size, image_size, 1), axes=[0,2,1,3]) / 255.0 # img_size * img_size arrays\n",
    "labels = keras.utils.to_categorical(mnist_dataset.values[:,0], num_classes) # one-hot encoding vectors\n",
    "\n",
    "print(images.shape)\n",
    "print(labels.shape)"
   ]
  },
  {
   "cell_type": "code",
   "execution_count": 6,
   "metadata": {},
   "outputs": [
    {
     "data": {
      "text/plain": [
       "<matplotlib.image.AxesImage at 0x7f860d4a35e0>"
      ]
     },
     "execution_count": 6,
     "metadata": {},
     "output_type": "execute_result"
    },
    {
     "data": {
      "image/png": "[encoded data removed]",
      "text/plain": [
       "<Figure size 640x480 with 1 Axes>"
      ]
     },
     "metadata": {},
     "output_type": "display_data"
    }
   ],
   "source": [
    "plt.imshow(images[np.random.randint(len(images)),:,:,0], cmap=plt.cm.binary_r, vmin=0, vmax=1)"
   ]
  },
  {
   "cell_type": "code",
   "execution_count": 7,
   "metadata": {},
   "outputs": [
    {
     "name": "stdout",
     "output_type": "stream",
     "text": [
      "Model: \"sequential\"\n",
      "_________________________________________________________________\n",
      " Layer (type)                Output Shape              Param #   \n",
      "=================================================================\n",
      " conv2d (Conv2D)             (None, 27, 27, 32)        160       \n",
      "                                                                 \n",
      " dropout (Dropout)           (None, 27, 27, 32)        0         \n",
      "                                                                 \n",
      " conv2d_1 (Conv2D)           (None, 5, 5, 128)         921728    \n",
      "                                                                 \n",
      " dropout_1 (Dropout)         (None, 5, 5, 128)         0         \n",
      "                                                                 \n",
      " conv2d_2 (Conv2D)           (None, 1, 1, 128)         409728    \n",
      "                                                                 \n",
      " flatten (Flatten)           (None, 128)               0         \n",
      "                                                                 \n",
      " dense (Dense)               (None, 208)               26832     \n",
      "                                                                 \n",
      " dense_1 (Dense)             (None, 26)                5434      \n",
      "                                                                 \n",
      "=================================================================\n",
      "Total params: 1,363,882\n",
      "Trainable params: 1,363,882\n",
      "Non-trainable params: 0\n",
      "_________________________________________________________________\n"
     ]
    },
    {
     "name": "stderr",
     "output_type": "stream",
     "text": [
      "2023-04-24 16:43:06.055123: I tensorflow/compiler/xla/stream_executor/cuda/cuda_gpu_executor.cc:996] successful NUMA node read from SysFS had negative value (-1), but there must be at least one NUMA node, so returning NUMA node zero. See more at https://github.com/torvalds/linux/blob/v6.0/Documentation/ABI/testing/sysfs-bus-pci#L344-L355\n",
      "2023-04-24 16:43:06.055254: I tensorflow/compiler/xla/stream_executor/cuda/cuda_gpu_executor.cc:996] successful NUMA node read from SysFS had negative value (-1), but there must be at least one NUMA node, so returning NUMA node zero. See more at https://github.com/torvalds/linux/blob/v6.0/Documentation/ABI/testing/sysfs-bus-pci#L344-L355\n",
      "2023-04-24 16:43:06.055466: I tensorflow/compiler/xla/stream_executor/cuda/cuda_gpu_executor.cc:996] successful NUMA node read from SysFS had negative value (-1), but there must be at least one NUMA node, so returning NUMA node zero. See more at https://github.com/torvalds/linux/blob/v6.0/Documentation/ABI/testing/sysfs-bus-pci#L344-L355\n",
      "2023-04-24 16:43:07.022193: I tensorflow/compiler/xla/stream_executor/cuda/cuda_gpu_executor.cc:996] successful NUMA node read from SysFS had negative value (-1), but there must be at least one NUMA node, so returning NUMA node zero. See more at https://github.com/torvalds/linux/blob/v6.0/Documentation/ABI/testing/sysfs-bus-pci#L344-L355\n",
      "2023-04-24 16:43:07.022441: I tensorflow/compiler/xla/stream_executor/cuda/cuda_gpu_executor.cc:996] successful NUMA node read from SysFS had negative value (-1), but there must be at least one NUMA node, so returning NUMA node zero. See more at https://github.com/torvalds/linux/blob/v6.0/Documentation/ABI/testing/sysfs-bus-pci#L344-L355\n",
      "2023-04-24 16:43:07.022599: I tensorflow/compiler/xla/stream_executor/cuda/cuda_gpu_executor.cc:996] successful NUMA node read from SysFS had negative value (-1), but there must be at least one NUMA node, so returning NUMA node zero. See more at https://github.com/torvalds/linux/blob/v6.0/Documentation/ABI/testing/sysfs-bus-pci#L344-L355\n",
      "2023-04-24 16:43:07.022742: I tensorflow/core/common_runtime/gpu/gpu_device.cc:1635] Created device /job:localhost/replica:0/task:0/device:GPU:0 with 5760 MB memory:  -> device: 0, name: NVIDIA GeForce RTX 3080 Laptop GPU, pci bus id: 0000:01:00.0, compute capability: 8.6\n"
     ]
    }
   ],
   "source": [
    "model = keras.models.Sequential()\n",
    "\n",
    "model.add(keras.layers.Conv2D(filters=32, kernel_size=(2,2), activation='relu',\n",
    "                              input_shape=(image_size,image_size,1)))\n",
    "model.add(keras.layers.Dropout(.5))\n",
    "\n",
    "model.add(keras.layers.Conv2D(filters=128, kernel_size=(15,15), strides=3, activation='relu', \n",
    "                              input_shape=(image_size,image_size,1)))\n",
    "model.add(keras.layers.Dropout(.5))\n",
    "\n",
    "model.add(keras.layers.Conv2D(filters=128, kernel_size=(5,5), strides=2, activation='relu', \n",
    "                              input_shape=(image_size,image_size,1)))\n",
    "\n",
    "model.add(keras.layers.Flatten())\n",
    "\n",
    "model.add(keras.layers.Dense(units=num_classes * 8, activation='relu'))\n",
    "model.add(keras.layers.Dense(units=num_classes, activation='softmax'))\n",
    "\n",
    "model.compile(optimizer='rmsprop', loss='categorical_crossentropy', metrics=['accuracy'])\n",
    "model.summary()\n",
    "\n",
    "MCP = keras.callbacks.ModelCheckpoint('Best_points.h5',verbose=1,save_best_only=True,monitor='val_accuracy',mode='max')\n",
    "ES = keras.callbacks.EarlyStopping(monitor='val_accuracy',min_delta=0,verbose=0,restore_best_weights = True,patience=3,mode='max')\n",
    "RLP = keras.callbacks.ReduceLROnPlateau(monitor='val_loss',patience=3,factor=0.2,min_lr=0.0001)"
   ]
  },
  {
   "cell_type": "code",
   "execution_count": 8,
   "metadata": {},
   "outputs": [],
   "source": [
    "from sklearn.model_selection import train_test_split\n",
    "train_x,test_x,train_y,test_y = train_test_split(images,labels,test_size=0.2, random_state = 42)\n",
    "train_x,val_x,train_y,val_y = train_test_split(train_x,train_y,test_size=0.2, random_state = 42)"
   ]
  },
  {
   "cell_type": "code",
   "execution_count": 9,
   "metadata": {},
   "outputs": [
    {
     "name": "stdout",
     "output_type": "stream",
     "text": [
      "Epoch 1/1000\n"
     ]
    },
    {
     "name": "stderr",
     "output_type": "stream",
     "text": [
      "2023-04-24 16:43:09.134525: E tensorflow/core/grappler/optimizers/meta_optimizer.cc:954] layout failed: INVALID_ARGUMENT: Size of values 0 does not match size of permutation 4 @ fanin shape insequential/dropout/dropout/SelectV2-2-TransposeNHWCToNCHW-LayoutOptimizer\n",
      "2023-04-24 16:43:10.371267: I tensorflow/compiler/xla/stream_executor/cuda/cuda_dnn.cc:424] Loaded cuDNN version 8600\n",
      "2023-04-24 16:43:11.553611: I tensorflow/compiler/xla/stream_executor/cuda/cuda_blas.cc:637] TensorFloat-32 will be used for the matrix multiplication. This will only be logged once.\n",
      "2023-04-24 16:43:11.575189: I tensorflow/compiler/xla/service/service.cc:169] XLA service 0x7f85cc008b10 initialized for platform CUDA (this does not guarantee that XLA will be used). Devices:\n",
      "2023-04-24 16:43:11.575206: I tensorflow/compiler/xla/service/service.cc:177]   StreamExecutor device (0): NVIDIA GeForce RTX 3080 Laptop GPU, Compute Capability 8.6\n",
      "2023-04-24 16:43:11.595540: I tensorflow/compiler/mlir/tensorflow/utils/dump_mlir_util.cc:269] disabling MLIR crash reproducer, set env var `MLIR_CRASH_REPRODUCER_DIRECTORY` to enable.\n",
      "2023-04-24 16:43:11.760526: I ./tensorflow/compiler/jit/device_compiler.h:180] Compiled cluster using XLA!  This line is logged at most once for the lifetime of the process.\n"
     ]
    },
    {
     "name": "stdout",
     "output_type": "stream",
     "text": [
      "112/112 [==============================] - ETA: 0s - loss: 1.1299 - accuracy: 0.6831\n",
      "Epoch 1: val_accuracy improved from -inf to 0.89344, saving model to Best_points.h5\n",
      "112/112 [==============================] - 9s 40ms/step - loss: 1.1299 - accuracy: 0.6831 - val_loss: 0.3812 - val_accuracy: 0.8934 - lr: 0.0010\n",
      "Epoch 2/1000\n",
      "110/112 [============================>.] - ETA: 0s - loss: 0.3291 - accuracy: 0.9028\n",
      "Epoch 2: val_accuracy improved from 0.89344 to 0.94434, saving model to Best_points.h5\n",
      "112/112 [==============================] - 3s 30ms/step - loss: 0.3274 - accuracy: 0.9034 - val_loss: 0.1913 - val_accuracy: 0.9443 - lr: 0.0010\n",
      "Epoch 3/1000\n",
      "111/112 [============================>.] - ETA: 0s - loss: 0.2244 - accuracy: 0.9344\n",
      "Epoch 3: val_accuracy improved from 0.94434 to 0.95079, saving model to Best_points.h5\n",
      "112/112 [==============================] - 3s 31ms/step - loss: 0.2244 - accuracy: 0.9344 - val_loss: 0.1687 - val_accuracy: 0.9508 - lr: 0.0010\n",
      "Epoch 4/1000\n",
      "111/112 [============================>.] - ETA: 0s - loss: 0.1803 - accuracy: 0.9467\n",
      "Epoch 4: val_accuracy improved from 0.95079 to 0.96146, saving model to Best_points.h5\n",
      "112/112 [==============================] - 3s 30ms/step - loss: 0.1801 - accuracy: 0.9467 - val_loss: 0.1369 - val_accuracy: 0.9615 - lr: 0.0010\n",
      "Epoch 5/1000\n",
      "110/112 [============================>.] - ETA: 0s - loss: 0.1535 - accuracy: 0.9544\n",
      "Epoch 5: val_accuracy improved from 0.96146 to 0.96407, saving model to Best_points.h5\n",
      "112/112 [==============================] - 3s 30ms/step - loss: 0.1535 - accuracy: 0.9544 - val_loss: 0.1247 - val_accuracy: 0.9641 - lr: 0.0010\n",
      "Epoch 6/1000\n",
      "111/112 [============================>.] - ETA: 0s - loss: 0.1376 - accuracy: 0.9591\n",
      "Epoch 6: val_accuracy improved from 0.96407 to 0.97009, saving model to Best_points.h5\n",
      "112/112 [==============================] - 3s 30ms/step - loss: 0.1375 - accuracy: 0.9591 - val_loss: 0.1014 - val_accuracy: 0.9701 - lr: 0.0010\n",
      "Epoch 7/1000\n",
      "111/112 [============================>.] - ETA: 0s - loss: 0.1249 - accuracy: 0.9628\n",
      "Epoch 7: val_accuracy did not improve from 0.97009\n",
      "112/112 [==============================] - 3s 29ms/step - loss: 0.1251 - accuracy: 0.9628 - val_loss: 0.1075 - val_accuracy: 0.9692 - lr: 0.0010\n",
      "Epoch 8/1000\n",
      "111/112 [============================>.] - ETA: 0s - loss: 0.1135 - accuracy: 0.9662\n",
      "Epoch 8: val_accuracy improved from 0.97009 to 0.97249, saving model to Best_points.h5\n",
      "112/112 [==============================] - 4s 31ms/step - loss: 0.1135 - accuracy: 0.9662 - val_loss: 0.0974 - val_accuracy: 0.9725 - lr: 0.0010\n",
      "Epoch 9/1000\n",
      "111/112 [============================>.] - ETA: 0s - loss: 0.1048 - accuracy: 0.9686\n",
      "Epoch 9: val_accuracy improved from 0.97249 to 0.97496, saving model to Best_points.h5\n",
      "112/112 [==============================] - 3s 31ms/step - loss: 0.1047 - accuracy: 0.9686 - val_loss: 0.0909 - val_accuracy: 0.9750 - lr: 0.0010\n",
      "Epoch 10/1000\n",
      "111/112 [============================>.] - ETA: 0s - loss: 0.0978 - accuracy: 0.9705\n",
      "Epoch 10: val_accuracy improved from 0.97496 to 0.97521, saving model to Best_points.h5\n",
      "112/112 [==============================] - 3s 29ms/step - loss: 0.0981 - accuracy: 0.9705 - val_loss: 0.0896 - val_accuracy: 0.9752 - lr: 0.0010\n",
      "Epoch 11/1000\n",
      "111/112 [============================>.] - ETA: 0s - loss: 0.0912 - accuracy: 0.9726\n",
      "Epoch 11: val_accuracy did not improve from 0.97521\n",
      "112/112 [==============================] - 3s 30ms/step - loss: 0.0913 - accuracy: 0.9726 - val_loss: 0.0905 - val_accuracy: 0.9748 - lr: 0.0010\n",
      "Epoch 12/1000\n",
      "110/112 [============================>.] - ETA: 0s - loss: 0.0862 - accuracy: 0.9737\n",
      "Epoch 12: val_accuracy improved from 0.97521 to 0.97550, saving model to Best_points.h5\n",
      "112/112 [==============================] - 3s 28ms/step - loss: 0.0866 - accuracy: 0.9737 - val_loss: 0.0859 - val_accuracy: 0.9755 - lr: 0.0010\n",
      "Epoch 13/1000\n",
      "111/112 [============================>.] - ETA: 0s - loss: 0.0816 - accuracy: 0.9750\n",
      "Epoch 13: val_accuracy improved from 0.97550 to 0.97618, saving model to Best_points.h5\n",
      "112/112 [==============================] - 3s 30ms/step - loss: 0.0815 - accuracy: 0.9750 - val_loss: 0.0861 - val_accuracy: 0.9762 - lr: 0.0010\n",
      "Epoch 14/1000\n",
      "111/112 [============================>.] - ETA: 0s - loss: 0.0777 - accuracy: 0.9762\n",
      "Epoch 14: val_accuracy improved from 0.97618 to 0.97693, saving model to Best_points.h5\n",
      "112/112 [==============================] - 3s 29ms/step - loss: 0.0775 - accuracy: 0.9762 - val_loss: 0.0828 - val_accuracy: 0.9769 - lr: 0.0010\n",
      "Epoch 15/1000\n",
      "111/112 [============================>.] - ETA: 0s - loss: 0.0738 - accuracy: 0.9771\n",
      "Epoch 15: val_accuracy improved from 0.97693 to 0.97815, saving model to Best_points.h5\n",
      "112/112 [==============================] - 3s 30ms/step - loss: 0.0737 - accuracy: 0.9772 - val_loss: 0.0799 - val_accuracy: 0.9782 - lr: 0.0010\n",
      "Epoch 16/1000\n",
      "110/112 [============================>.] - ETA: 0s - loss: 0.0701 - accuracy: 0.9782\n",
      "Epoch 16: val_accuracy improved from 0.97815 to 0.97829, saving model to Best_points.h5\n",
      "112/112 [==============================] - 3s 30ms/step - loss: 0.0701 - accuracy: 0.9782 - val_loss: 0.0784 - val_accuracy: 0.9783 - lr: 0.0010\n",
      "Epoch 17/1000\n",
      "111/112 [============================>.] - ETA: 0s - loss: 0.0669 - accuracy: 0.9791\n",
      "Epoch 17: val_accuracy improved from 0.97829 to 0.97905, saving model to Best_points.h5\n",
      "112/112 [==============================] - 3s 30ms/step - loss: 0.0672 - accuracy: 0.9790 - val_loss: 0.0761 - val_accuracy: 0.9790 - lr: 0.0010\n",
      "Epoch 18/1000\n",
      "111/112 [============================>.] - ETA: 0s - loss: 0.0648 - accuracy: 0.9798\n",
      "Epoch 18: val_accuracy did not improve from 0.97905\n",
      "112/112 [==============================] - 3s 29ms/step - loss: 0.0648 - accuracy: 0.9798 - val_loss: 0.0848 - val_accuracy: 0.9767 - lr: 0.0010\n",
      "Epoch 19/1000\n",
      "111/112 [============================>.] - ETA: 0s - loss: 0.0625 - accuracy: 0.9806\n",
      "Epoch 19: val_accuracy did not improve from 0.97905\n",
      "112/112 [==============================] - 3s 29ms/step - loss: 0.0625 - accuracy: 0.9806 - val_loss: 0.0803 - val_accuracy: 0.9787 - lr: 0.0010\n",
      "Epoch 20/1000\n",
      "111/112 [============================>.] - ETA: 0s - loss: 0.0612 - accuracy: 0.9805\n",
      "Epoch 20: val_accuracy improved from 0.97905 to 0.97991, saving model to Best_points.h5\n",
      "112/112 [==============================] - 3s 30ms/step - loss: 0.0613 - accuracy: 0.9805 - val_loss: 0.0758 - val_accuracy: 0.9799 - lr: 0.0010\n",
      "Epoch 21/1000\n",
      "111/112 [============================>.] - ETA: 0s - loss: 0.0578 - accuracy: 0.9817\n",
      "Epoch 21: val_accuracy did not improve from 0.97991\n",
      "112/112 [==============================] - 3s 30ms/step - loss: 0.0579 - accuracy: 0.9817 - val_loss: 0.0791 - val_accuracy: 0.9792 - lr: 0.0010\n",
      "Epoch 22/1000\n",
      "111/112 [============================>.] - ETA: 0s - loss: 0.0568 - accuracy: 0.9819\n",
      "Epoch 22: val_accuracy did not improve from 0.97991\n",
      "112/112 [==============================] - 3s 30ms/step - loss: 0.0567 - accuracy: 0.9819 - val_loss: 0.0764 - val_accuracy: 0.9794 - lr: 0.0010\n",
      "Epoch 23/1000\n",
      "111/112 [============================>.] - ETA: 0s - loss: 0.0545 - accuracy: 0.9824\n",
      "Epoch 23: val_accuracy improved from 0.97991 to 0.98009, saving model to Best_points.h5\n",
      "112/112 [==============================] - 3s 30ms/step - loss: 0.0546 - accuracy: 0.9824 - val_loss: 0.0761 - val_accuracy: 0.9801 - lr: 0.0010\n",
      "Epoch 24/1000\n",
      "111/112 [============================>.] - ETA: 0s - loss: 0.0442 - accuracy: 0.9858\n",
      "Epoch 24: val_accuracy improved from 0.98009 to 0.98191, saving model to Best_points.h5\n",
      "112/112 [==============================] - 3s 30ms/step - loss: 0.0442 - accuracy: 0.9858 - val_loss: 0.0703 - val_accuracy: 0.9819 - lr: 2.0000e-04\n",
      "Epoch 25/1000\n",
      "111/112 [============================>.] - ETA: 0s - loss: 0.0412 - accuracy: 0.9866\n",
      "Epoch 25: val_accuracy improved from 0.98191 to 0.98213, saving model to Best_points.h5\n",
      "112/112 [==============================] - 3s 30ms/step - loss: 0.0412 - accuracy: 0.9866 - val_loss: 0.0717 - val_accuracy: 0.9821 - lr: 2.0000e-04\n",
      "Epoch 26/1000\n",
      "111/112 [============================>.] - ETA: 0s - loss: 0.0412 - accuracy: 0.9869\n",
      "Epoch 26: val_accuracy improved from 0.98213 to 0.98270, saving model to Best_points.h5\n"
     ]
    },
    {
     "name": "stdout",
     "output_type": "stream",
     "text": [
      "112/112 [==============================] - 3s 30ms/step - loss: 0.0413 - accuracy: 0.9869 - val_loss: 0.0706 - val_accuracy: 0.9827 - lr: 2.0000e-04\n",
      "Epoch 27/1000\n",
      "111/112 [============================>.] - ETA: 0s - loss: 0.0388 - accuracy: 0.9874\n",
      "Epoch 27: val_accuracy did not improve from 0.98270\n",
      "112/112 [==============================] - 3s 29ms/step - loss: 0.0388 - accuracy: 0.9874 - val_loss: 0.0704 - val_accuracy: 0.9825 - lr: 2.0000e-04\n",
      "Epoch 28/1000\n",
      "111/112 [============================>.] - ETA: 0s - loss: 0.0385 - accuracy: 0.9878\n",
      "Epoch 28: val_accuracy improved from 0.98270 to 0.98277, saving model to Best_points.h5\n",
      "112/112 [==============================] - 3s 30ms/step - loss: 0.0385 - accuracy: 0.9877 - val_loss: 0.0705 - val_accuracy: 0.9828 - lr: 1.0000e-04\n",
      "Epoch 29/1000\n",
      "111/112 [============================>.] - ETA: 0s - loss: 0.0364 - accuracy: 0.9882\n",
      "Epoch 29: val_accuracy improved from 0.98277 to 0.98281, saving model to Best_points.h5\n",
      "112/112 [==============================] - 3s 31ms/step - loss: 0.0364 - accuracy: 0.9882 - val_loss: 0.0715 - val_accuracy: 0.9828 - lr: 1.0000e-04\n",
      "Epoch 30/1000\n",
      "111/112 [============================>.] - ETA: 0s - loss: 0.0367 - accuracy: 0.9881\n",
      "Epoch 30: val_accuracy improved from 0.98281 to 0.98288, saving model to Best_points.h5\n",
      "112/112 [==============================] - 3s 30ms/step - loss: 0.0367 - accuracy: 0.9881 - val_loss: 0.0715 - val_accuracy: 0.9829 - lr: 1.0000e-04\n",
      "Epoch 31/1000\n",
      "111/112 [============================>.] - ETA: 0s - loss: 0.0371 - accuracy: 0.9880\n",
      "Epoch 31: val_accuracy improved from 0.98288 to 0.98291, saving model to Best_points.h5\n",
      "112/112 [==============================] - 3s 30ms/step - loss: 0.0371 - accuracy: 0.9879 - val_loss: 0.0708 - val_accuracy: 0.9829 - lr: 1.0000e-04\n",
      "Epoch 32/1000\n",
      "111/112 [============================>.] - ETA: 0s - loss: 0.0358 - accuracy: 0.9882\n",
      "Epoch 32: val_accuracy did not improve from 0.98291\n",
      "112/112 [==============================] - 3s 31ms/step - loss: 0.0360 - accuracy: 0.9881 - val_loss: 0.0716 - val_accuracy: 0.9827 - lr: 1.0000e-04\n",
      "Epoch 33/1000\n",
      "111/112 [============================>.] - ETA: 0s - loss: 0.0363 - accuracy: 0.9881\n",
      "Epoch 33: val_accuracy did not improve from 0.98291\n",
      "112/112 [==============================] - 3s 31ms/step - loss: 0.0362 - accuracy: 0.9881 - val_loss: 0.0725 - val_accuracy: 0.9823 - lr: 1.0000e-04\n",
      "Epoch 34/1000\n",
      "111/112 [============================>.] - ETA: 0s - loss: 0.0355 - accuracy: 0.9885\n",
      "Epoch 34: val_accuracy did not improve from 0.98291\n",
      "112/112 [==============================] - 3s 30ms/step - loss: 0.0355 - accuracy: 0.9885 - val_loss: 0.0717 - val_accuracy: 0.9828 - lr: 1.0000e-04\n"
     ]
    }
   ],
   "source": [
    "history = model.fit(train_x,train_y,epochs=1000,batch_size=1000,validation_data=(val_x,val_y),callbacks=[MCP,ES,RLP])"
   ]
  },
  {
   "cell_type": "code",
   "execution_count": 10,
   "metadata": {},
   "outputs": [
    {
     "data": {
      "image/png": "[encoded data removed]",
      "text/plain": [
       "<Figure size 640x480 with 1 Axes>"
      ]
     },
     "metadata": {},
     "output_type": "display_data"
    },
    {
     "data": {
      "image/png": "[encoded data removed]",
      "text/plain": [
       "<Figure size 640x480 with 1 Axes>"
      ]
     },
     "metadata": {},
     "output_type": "display_data"
    }
   ],
   "source": [
    "# accuracy\n",
    "plt.plot(history.history['accuracy'])\n",
    "plt.plot(history.history['val_accuracy'])\n",
    "plt.title('model accuracy')\n",
    "plt.ylabel('accuracy')\n",
    "plt.xlabel('epoch')\n",
    "plt.legend(['train', 'validation'], loc='lower right')\n",
    "plt.show()\n",
    "\n",
    "# loss\n",
    "plt.plot(history.history['loss'])\n",
    "plt.plot(history.history['val_loss'])\n",
    "plt.title('model loss')\n",
    "plt.ylabel('loss')\n",
    "plt.xlabel('epoch')\n",
    "plt.legend(['train', 'validation'], loc='upper right')\n",
    "plt.show()"
   ]
  },
  {
   "cell_type": "code",
   "execution_count": 11,
   "metadata": {},
   "outputs": [
    {
     "name": "stdout",
     "output_type": "stream",
     "text": [
      "1091/1091 [==============================] - 8s 7ms/step - loss: 0.0857 - accuracy: 0.9796\n"
     ]
    },
    {
     "data": {
      "text/plain": [
       "[0.08571263402700424, 0.9796268939971924]"
      ]
     },
     "execution_count": 11,
     "metadata": {},
     "output_type": "execute_result"
    }
   ],
   "source": [
    "test_history = model.evaluate(test_x,test_y)\n",
    "test_history"
   ]
  },
  {
   "cell_type": "code",
   "execution_count": 40,
   "metadata": {},
   "outputs": [
    {
     "name": "stdout",
     "output_type": "stream",
     "text": [
      "(1, 28, 28, 1)\n",
      "1/1 [==============================] - 0s 10ms/step\n",
      "D 0.99948066\n",
      "[[0.    0.    0.    0.999 0.    0.    0.    0.    0.    0.    0.    0.\n",
      "  0.    0.    0.    0.    0.    0.    0.    0.    0.    0.    0.    0.\n",
      "  0.    0.   ]]\n"
     ]
    },
    {
     "data": {
      "image/png": "[encoded data removed]",
      "text/plain": [
       "<Figure size 640x480 with 1 Axes>"
      ]
     },
     "metadata": {},
     "output_type": "display_data"
    }
   ],
   "source": [
    "idx = np.random.randint(len(test_x))\n",
    "image = test_x[idx:idx+1,:,:,:]\n",
    "print(image.shape)\n",
    "\n",
    "plt.imshow(image[0,:,:,0], cmap=plt.cm.binary_r, vmin=0, vmax=1)\n",
    "res = model.predict(image)\n",
    "\n",
    "res_idx = np.argmax(res)\n",
    "print(class_mapping[res_idx], np.max(res))\n",
    "print(np.round(res * 1000) / 1000)"
   ]
  },
  {
   "cell_type": "code",
   "execution_count": 79,
   "metadata": {},
   "outputs": [
    {
     "ename": "ImportError",
     "evalue": "libopencv_hdf.so.406: cannot open shared object file: No such file or directory",
     "output_type": "error",
     "traceback": [
      "\u001b[0;31m---------------------------------------------------------------------------\u001b[0m",
      "\u001b[0;31mImportError\u001b[0m                               Traceback (most recent call last)",
      "Cell \u001b[0;32mIn[79], line 1\u001b[0m\n\u001b[0;32m----> 1\u001b[0m \u001b[38;5;28;01mimport\u001b[39;00m \u001b[38;5;21;01mcv2\u001b[39;00m\n\u001b[1;32m      2\u001b[0m \u001b[38;5;28;01mimport\u001b[39;00m \u001b[38;5;21;01mmatplotlib\u001b[39;00m\u001b[38;5;21;01m.\u001b[39;00m\u001b[38;5;21;01mpyplot\u001b[39;00m \u001b[38;5;28;01mas\u001b[39;00m \u001b[38;5;21;01mplt\u001b[39;00m\n\u001b[1;32m      4\u001b[0m \u001b[38;5;28;01mdef\u001b[39;00m \u001b[38;5;21mgrab_frame\u001b[39m(cap):\n",
      "\u001b[0;31mImportError\u001b[0m: libopencv_hdf.so.406: cannot open shared object file: No such file or directory"
     ]
    }
   ],
   "source": [
    "import cv2\n",
    "import matplotlib.pyplot as plt\n",
    "\n",
    "def grab_frame(cap):\n",
    "    ret,frame = cap.read()\n",
    "    return cv2.cvtColor(frame,cv2.COLOR_BGR2RGB)\n",
    "\n",
    "#Initiate the two cameras\n",
    "cap1 = cv2.VideoCapture(0)\n",
    "\n",
    "#create two subplots\n",
    "ax1 = plt.subplot(1,2,1)\n",
    "ax2 = plt.subplot(1,2,2)\n",
    "\n",
    "#create two image plots\n",
    "im1 = ax1.imshow(grab_frame(cap1))\n",
    "im2 = ax2.imshow(grab_frame(cap2))\n",
    "\n",
    "plt.ion()\n",
    "\n",
    "while True:\n",
    "    im1.set_data(grab_frame(cap1))\n",
    "    im2.set_data(grab_frame(cap2))\n",
    "    plt.pause(0.2)\n",
    "\n",
    "plt.ioff() # due to infinite loop, this gets never called.\n",
    "plt.show()"
   ]
  },
  {
   "cell_type": "code",
   "execution_count": null,
   "metadata": {},
   "outputs": [],
   "source": []
  },
  {
   "cell_type": "code",
   "execution_count": null,
   "metadata": {},
   "outputs": [],
   "source": []
  }
 ],
 "metadata": {
  "kernelspec": {
   "display_name": "Python 3 (ipykernel)",
   "language": "python",
   "name": "python3"
  },
  "language_info": {
   "codemirror_mode": {
    "name": "ipython",
    "version": 3
   },
   "file_extension": ".py",
   "mimetype": "text/x-python",
   "name": "python",
   "nbconvert_exporter": "python",
   "pygments_lexer": "ipython3",
   "version": "3.8.10"
  }
 },
 "nbformat": 4,
 "nbformat_minor": 1
}
