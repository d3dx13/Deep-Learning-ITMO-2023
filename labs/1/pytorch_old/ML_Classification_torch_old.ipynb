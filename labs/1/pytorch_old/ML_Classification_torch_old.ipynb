{
 "cells": [
  {
   "cell_type": "markdown",
   "metadata": {
    "collapsed": true
   },
   "source": [
    "# Lab work on MNIST classification using multiple machine learning algorithms \n",
    "\n",
    "**Objective of the work**.\n",
    "\n",
    "The purpose of this lab work is to learn multiple machine learning algorithms for classifying handwritten digit images from a MNIST dataset.\n",
    "\n",
    "**Work Objectives**.\n",
    "\n",
    "* Study the MNIST dataset and its structure\n",
    "* Study and implement **some** machine learning algorithms for MNIST classification\n",
    "* Train models on the MNIST dataset\n",
    "* Evaluate the performance of the models and compare the results\n",
    "* Suggest improvements and optimizations for the models\n",
    "\n",
    "**MNIST dataset**.\n",
    "\n",
    "The MNIST dataset is a standard dataset for pattern recognition tasks. It consists of 70,000 handwritten digit images from 0 to 9, each image is 28x28 pixels."
   ]
  },
  {
   "cell_type": "markdown",
   "metadata": {},
   "source": [
    "## Import libraries\n",
    "\n",
    "To work with data and models, we need the following libraries:\n",
    "\n",
    "* numpy\n",
    "* pandas\n",
    "* matplotlib\n",
    "* scikit-learn"
   ]
  },
  {
   "cell_type": "code",
   "execution_count": 1,
   "metadata": {},
   "outputs": [
    {
     "name": "stdout",
     "output_type": "stream",
     "text": [
      "Is cuda available? True\n",
      "Is cuDNN version: 8600\n",
      "cuDNN enabled?  True\n",
      "cuDNN benchmark? True\n",
      "is Use Deterministic Algorithms? False\n",
      "_CudaDeviceProperties(name='NVIDIA GeForce RTX 3080 Laptop GPU', major=8, minor=6, total_memory=7973MB, multi_processor_count=48)\n"
     ]
    }
   ],
   "source": [
    "from IPython.display import clear_output\n",
    "\n",
    "import numpy as np\n",
    "import pandas as pd\n",
    "import matplotlib.pyplot as plt\n",
    "\n",
    "import torch\n",
    "import torch.nn as nn\n",
    "import torch.nn.functional as F\n",
    "import gc\n",
    "import torch.backends.cudnn\n",
    "\n",
    "%matplotlib inline\n",
    "\n",
    "torch.cuda.synchronize()\n",
    "torch.cuda.empty_cache()\n",
    "gc.collect()\n",
    "\n",
    "torch.use_deterministic_algorithms(False)\n",
    "torch.backends.cudnn.benchmark = True\n",
    "\n",
    "try:\n",
    "    torch.backends.cudnn.version()\n",
    "except:\n",
    "    pass\n",
    "\n",
    "print(\"Is cuda available?\", torch.cuda.is_available())\n",
    "print(\"Is cuDNN version:\", torch.backends.cudnn.version())\n",
    "print(\"cuDNN enabled? \", torch.backends.cudnn.enabled)\n",
    "print(\"cuDNN benchmark?\", torch.backends.cudnn.benchmark)\n",
    "print(\"is Use Deterministic Algorithms?\", torch.backends.cudnn.deterministic)\n",
    "\n",
    "cuda = torch.device('cuda')\n",
    "print(torch.cuda.get_device_properties(cuda))"
   ]
  },
  {
   "cell_type": "markdown",
   "metadata": {},
   "source": [
    "Load dataset"
   ]
  },
  {
   "cell_type": "code",
   "execution_count": 2,
   "metadata": {},
   "outputs": [
    {
     "name": "stdout",
     "output_type": "stream",
     "text": [
      "47\n"
     ]
    }
   ],
   "source": [
    "num_workers = 0\n",
    "batch_size = 1000\n",
    "valid_size = 0.2\n",
    "\n",
    "MODEL_NAME = \"SimpleNet\"\n",
    "\n",
    "train_data_path = '../../input/emnist/emnist-balanced-train.csv'\n",
    "test_data_path = '../../input/emnist/emnist-balanced-test.csv'\n",
    "\n",
    "# train_data_path = '../../input/emnist/emnist-bymerge-train.csv'\n",
    "# test_data_path = '../../input/emnist/emnist-bymerge-test.csv'\n",
    "\n",
    "# The classes of this balanced dataset are as follows. Index into it based on class label\n",
    "class_mapping = '0123456789ABCDEFGHIJKLMNOPQRSTUVWXYZabdefghnqrt'\n",
    "num_classes = len(class_mapping)\n",
    "\n",
    "print(num_classes)\n",
    "# source data: https://arxiv.org/pdf/1702.05373.pdf"
   ]
  },
  {
   "cell_type": "code",
   "execution_count": 3,
   "metadata": {},
   "outputs": [
    {
     "data": {
      "text/plain": [
       "array([ 0,  1,  2,  3,  4,  5,  6,  7,  8,  9, 10, 11, 12, 13, 14, 15, 16,\n",
       "       17, 18, 19, 20, 21, 22, 23, 24, 25, 26, 27, 28, 29, 30, 31, 32, 33,\n",
       "       34, 35, 36, 37, 38, 39, 40, 41, 42, 43, 44, 45, 46])"
      ]
     },
     "execution_count": 3,
     "metadata": {},
     "output_type": "execute_result"
    }
   ],
   "source": [
    "mnist_train = pd.read_csv(train_data_path, header=None).to_numpy()\n",
    "mnist_test = pd.read_csv(test_data_path, header=None).to_numpy()\n",
    "row_num = 8\n",
    "\n",
    "np.unique(mnist_test[:, 0])"
   ]
  },
  {
   "cell_type": "code",
   "execution_count": 4,
   "metadata": {},
   "outputs": [
    {
     "name": "stdout",
     "output_type": "stream",
     "text": [
      "torch.Size([112800, 1, 28, 28])\n",
      "torch.Size([112800])\n",
      "torch.Size([18800, 1, 28, 28])\n",
      "torch.Size([18800])\n"
     ]
    },
    {
     "data": {
      "text/plain": [
       "SimpleNet(\n",
       "  (conv1): Conv2d(1, 32, kernel_size=(7, 7), stride=(3, 3), padding=(4, 4))\n",
       "  (dropout1): Dropout(p=0.5, inplace=False)\n",
       "  (conv2): Conv2d(32, 128, kernel_size=(5, 5), stride=(3, 3), padding=(3, 3))\n",
       "  (dropout2): Dropout(p=0.5, inplace=False)\n",
       "  (conv3): Conv2d(128, 64, kernel_size=(3, 3), stride=(3, 3), padding=(2, 2))\n",
       "  (dropout3): Dropout(p=0.5, inplace=False)\n",
       "  (conv4): Conv2d(64, 32, kernel_size=(2, 2), stride=(1, 1), padding=(1, 1))\n",
       "  (fc1): Linear(in_features=512, out_features=150, bias=True)\n",
       "  (fc2): Linear(in_features=150, out_features=47, bias=True)\n",
       ")"
      ]
     },
     "execution_count": 4,
     "metadata": {},
     "output_type": "execute_result"
    }
   ],
   "source": [
    "images_train = np.float32(np.reshape(mnist_train[:, 1:], (mnist_train.shape[0], 28, 28, 1))) / 255\n",
    "numbers_train = mnist_train[:, 0]\n",
    "images_test = np.float32(np.reshape(mnist_test[:, 1:], (mnist_test.shape[0], 28, 28, 1))) / 255\n",
    "numbers_test = mnist_test[:, 0]\n",
    "\n",
    "images_train = np.transpose(images_train, [0, 3, 2, 1])\n",
    "images_test = np.transpose(images_test, [0, 3, 2, 1])\n",
    "\n",
    "images_train = torch.tensor(images_train, device=cuda).to(non_blocking=True)\n",
    "numbers_train = torch.tensor(numbers_train, device=cuda).to(non_blocking=True)\n",
    "images_test = torch.tensor(images_test, device=cuda).to(non_blocking=True)\n",
    "numbers_test = torch.tensor(numbers_test, device=cuda).to(non_blocking=True)\n",
    "\n",
    "print(images_train.shape)\n",
    "print(numbers_train.shape)\n",
    "print(images_test.shape)\n",
    "print(numbers_test.shape)\n",
    "\n",
    "# print(\"Classes: \", np.unique(numbers_train.cpu()))\n",
    "\n",
    "from importlib import reload\n",
    "import SimpleNet\n",
    "\n",
    "reload(SimpleNet)\n",
    "\n",
    "model = SimpleNet.SimpleNet(num_classes)\n",
    "model.cuda()"
   ]
  },
  {
   "cell_type": "code",
   "execution_count": 5,
   "metadata": {},
   "outputs": [
    {
     "name": "stdout",
     "output_type": "stream",
     "text": [
      "torch.Size([1, 1, 32, 32])\n",
      "\n"
     ]
    },
    {
     "data": {
      "image/png": "[encoded data removed]",
      "text/plain": [
       "<Figure size 640x480 with 1 Axes>"
      ]
     },
     "metadata": {},
     "output_type": "display_data"
    }
   ],
   "source": [
    "reload(SimpleNet)\n",
    "\n",
    "model = SimpleNet.SimpleNet(num_classes)\n",
    "model.cuda()\n",
    "\n",
    "number_train = 133 # np.random.randint(0, images_test.shape[0])\n",
    "image = images_test[number_train:number_train+1, 0:1, :, :]\n",
    "image = model.prepare(image).cpu()\n",
    "print(image.shape)\n",
    "\n",
    "plt.imshow(\n",
    "    image[0,0,:,:]\n",
    "    , cmap=plt.cm.binary_r, vmin=0, vmax=1)\n",
    "plt.title(f\"Random characters from the training dataset: {class_mapping[numbers_test.cpu().numpy()[number_train]]}\")\n",
    "print()"
   ]
  },
  {
   "cell_type": "markdown",
   "metadata": {},
   "source": [
    "Data is flipped"
   ]
  },
  {
   "cell_type": "code",
   "execution_count": 6,
   "metadata": {},
   "outputs": [],
   "source": [
    "from torchvision import datasets\n",
    "import torchvision.transforms as transforms\n",
    "from torch.utils.data.sampler import SubsetRandomSampler\n",
    "from torch.utils.data import TensorDataset, DataLoader\n",
    "\n",
    "from importlib import reload\n",
    "import SimpleNet\n",
    "\n",
    "reload(SimpleNet)\n",
    "\n",
    "# Picking Fashion-MNIST dataset\n",
    "\n",
    "train_transforms = transforms.Compose([\n",
    "    transforms.RandomRotation(30),\n",
    "    transforms.RandomInvert(p=0.5),\n",
    "])\n",
    "# transforms.RandomInvert(p=0.5),\n",
    "normalize_transforms = transforms.Compose([\n",
    "    transforms.Resize(size=SimpleNet.IMAGE_SIZE, interpolation=transforms.InterpolationMode.BICUBIC),\n",
    "    transforms.Normalize((0.5,), (0.5,)),\n",
    "])\n",
    "# transforms.Normalize((0.5,), (0.5,)),\n",
    "\n",
    "train_data = TensorDataset(images_train, numbers_train)\n",
    "test_data = TensorDataset(images_test, numbers_test)\n",
    "\n",
    "# Finding indices for validation set\n",
    "num_train = len(train_data)\n",
    "indices = list(range(num_train))\n",
    "#Randomize indices\n",
    "np.random.shuffle(indices)\n",
    "\n",
    "split = int(np.floor(num_train * valid_size))\n",
    "train_index, test_index = indices[split:], indices[:split]\n",
    "\n",
    "# Making samplers for training and validation batches\n",
    "train_sampler = SubsetRandomSampler(train_index)\n",
    "valid_sampler = SubsetRandomSampler(test_index)\n",
    "\n",
    "# Creating data loaders\n",
    "train_loader = torch.utils.data.DataLoader(train_data, batch_size=batch_size, sampler=train_sampler,\n",
    "                                           num_workers=num_workers)\n",
    "valid_loader = torch.utils.data.DataLoader(train_data, batch_size=batch_size, sampler=valid_sampler,\n",
    "                                           num_workers=num_workers)\n",
    "test_loader = torch.utils.data.DataLoader(test_data, batch_size=batch_size, num_workers=num_workers)"
   ]
  },
  {
   "cell_type": "code",
   "execution_count": 7,
   "metadata": {},
   "outputs": [
    {
     "name": "stdout",
     "output_type": "stream",
     "text": [
      "SimpleNet(\n",
      "  (conv1): Conv2d(1, 32, kernel_size=(7, 7), stride=(3, 3), padding=(4, 4))\n",
      "  (dropout1): Dropout(p=0.5, inplace=False)\n",
      "  (conv2): Conv2d(32, 128, kernel_size=(5, 5), stride=(3, 3), padding=(3, 3))\n",
      "  (dropout2): Dropout(p=0.5, inplace=False)\n",
      "  (conv3): Conv2d(128, 64, kernel_size=(3, 3), stride=(3, 3), padding=(2, 2))\n",
      "  (dropout3): Dropout(p=0.5, inplace=False)\n",
      "  (conv4): Conv2d(64, 32, kernel_size=(2, 2), stride=(1, 1), padding=(1, 1))\n",
      "  (fc1): Linear(in_features=512, out_features=150, bias=True)\n",
      "  (fc2): Linear(in_features=150, out_features=47, bias=True)\n",
      ")\n"
     ]
    }
   ],
   "source": [
    "from importlib import reload\n",
    "import torchvision.models\n",
    "import SimpleNet\n",
    "import torch.optim as optim\n",
    "\n",
    "reload(SimpleNet)\n",
    "\n",
    "model = SimpleNet.SimpleNet(num_classes)\n",
    "model.cuda()\n",
    "print(model)\n",
    "\n",
    "# loss function\n",
    "criterion = nn.CrossEntropyLoss()\n",
    "\n",
    "train_losses = []\n",
    "valid_losses = []\n",
    "\n",
    "# tracks validation loss change after each epoch\n",
    "minimum_validation_loss = np.inf"
   ]
  },
  {
   "cell_type": "code",
   "execution_count": 8,
   "metadata": {},
   "outputs": [
    {
     "ename": "KeyboardInterrupt",
     "evalue": "",
     "output_type": "error",
     "traceback": [
      "\u001b[0;31m---------------------------------------------------------------------------\u001b[0m",
      "\u001b[0;31mKeyboardInterrupt\u001b[0m                         Traceback (most recent call last)",
      "Cell \u001b[0;32mIn[8], line 32\u001b[0m\n\u001b[1;32m     30\u001b[0m     optimizer\u001b[38;5;241m.\u001b[39mstep()\n\u001b[1;32m     31\u001b[0m     \u001b[38;5;66;03m# update training loss\u001b[39;00m\n\u001b[0;32m---> 32\u001b[0m     train_loss \u001b[38;5;241m+\u001b[39m\u001b[38;5;241m=\u001b[39m \u001b[43mloss\u001b[49m\u001b[38;5;241;43m.\u001b[39;49m\u001b[43mitem\u001b[49m\u001b[43m(\u001b[49m\u001b[43m)\u001b[49m \u001b[38;5;241m*\u001b[39m data\u001b[38;5;241m.\u001b[39msize(\u001b[38;5;241m0\u001b[39m)\n\u001b[1;32m     34\u001b[0m \u001b[38;5;66;03m# validation steps\u001b[39;00m\n\u001b[1;32m     35\u001b[0m model\u001b[38;5;241m.\u001b[39meval()\n",
      "\u001b[0;31mKeyboardInterrupt\u001b[0m: "
     ]
    }
   ],
   "source": [
    "learning_rate = 0.01\n",
    "learning_momentum = 0.9\n",
    "# optimizer\n",
    "optimizer = optim.SGD(model.parameters(), lr=learning_rate, momentum=learning_momentum)\n",
    "\n",
    "# epochs to train for\n",
    "epochs = 30\n",
    "\n",
    "for epoch in range(1, epochs + 1):\n",
    "    clear_output(wait=True)\n",
    "\n",
    "    train_loss = 0\n",
    "    valid_loss = 0\n",
    "\n",
    "    # training steps\n",
    "    model.train()\n",
    "\n",
    "    index = 0\n",
    "    for batch_index, (data, target) in enumerate(train_loader):\n",
    "        index += 1\n",
    "        # clears gradients\n",
    "        optimizer.zero_grad()\n",
    "        # forward pass\n",
    "        output = model(normalize_transforms(train_transforms(data)))\n",
    "        # loss in batch\n",
    "        loss = criterion(output, target)\n",
    "        # backward pass for loss gradient\n",
    "        loss.backward()\n",
    "        # update paremeters\n",
    "        optimizer.step()\n",
    "        # update training loss\n",
    "        train_loss += loss.item() * data.size(0)\n",
    "\n",
    "    # validation steps\n",
    "    model.eval()\n",
    "    for batch_index, (data, target) in enumerate(valid_loader):\n",
    "        # forward pass\n",
    "        output = model(normalize_transforms(train_transforms(data)))\n",
    "        # loss in batch\n",
    "        loss = criterion(output, target)\n",
    "        # update validation loss\n",
    "        valid_loss += loss.item() * data.size(0)\n",
    "\n",
    "    # average loss calculations\n",
    "    train_loss = train_loss / len(train_loader.sampler)\n",
    "    valid_loss = valid_loss / len(valid_loader.sampler)\n",
    "    train_losses.append(train_loss)\n",
    "    valid_losses.append(valid_loss)\n",
    "\n",
    "    # Display loss statistics\n",
    "    print(\n",
    "        f'Текущая Эпоха: {len(train_losses)}\\nTraining Loss: {round(train_loss, 6)}\\nValidation Loss: {round(valid_loss, 6)}')\n",
    "\n",
    "    # Saving model every time validation loss decreases\n",
    "    if valid_loss <= minimum_validation_loss:\n",
    "        print(f'Validation loss уменьшилась с {round(minimum_validation_loss, 6)} до {round(valid_loss, 6)}')\n",
    "        torch.save(model.state_dict(), f'{MODEL_NAME}.pt')\n",
    "        minimum_validation_loss = valid_loss\n",
    "        print('Сохранение новой модели')\n",
    "\n",
    "    plt.plot(train_losses, 'g')\n",
    "    plt.plot(valid_losses, 'r')\n",
    "    plt.ylim([0, max(np.max(np.array(train_losses)), np.max(np.array(train_losses)), 0.0) * 1.1])\n",
    "    plt.xlabel(\"Эпоха\")\n",
    "    plt.ylabel(\"Точность\")\n",
    "    plt.legend([\"Training loss\", \"Validation loss\"])\n",
    "    plt.show()"
   ]
  },
  {
   "cell_type": "code",
   "execution_count": null,
   "metadata": {},
   "outputs": [],
   "source": [
    "from importlib import reload\n",
    "import SimpleNet\n",
    "\n",
    "reload(SimpleNet)\n",
    "\n",
    "model_new = SimpleNet.SimpleNet(num_classes)\n",
    "model_new.cuda()\n",
    "model_new.load_state_dict(torch.load(f'{MODEL_NAME}.pt'))\n",
    "\n",
    "output_max = None\n",
    "output_min = None"
   ]
  },
  {
   "cell_type": "code",
   "execution_count": null,
   "metadata": {},
   "outputs": [],
   "source": [
    "# tracking test loss\n",
    "test_loss = 0.0\n",
    "class_correct = list(0. for i in range(num_classes))\n",
    "class_total = list(0. for i in range(num_classes))\n",
    "\n",
    "model_new.eval()\n",
    "\n",
    "for batch_idx, (data, target) in enumerate(test_loader):\n",
    "    # forward pass\n",
    "    output = model_new(normalize_transforms(train_transforms(data)))\n",
    "\n",
    "    local_max = np.max(output.detach().cpu().numpy(), axis=0)\n",
    "    local_min = np.min(output.detach().cpu().numpy(), axis=0)\n",
    "    if output_max is None:\n",
    "        output_max = local_max\n",
    "    else:\n",
    "        output_max = np.max(np.array([local_max, output_max]), axis=0)\n",
    "    if output_min is None:\n",
    "        output_min = local_min\n",
    "    else:\n",
    "        output_min = np.min(np.array([local_min, output_min]), axis=0)\n",
    "\n",
    "    # batch loss\n",
    "    loss = criterion(output, target)\n",
    "    # test loss update\n",
    "    test_loss += loss.item() * data.size(0)\n",
    "    # convert output probabilities to predicted class\n",
    "    _, pred = torch.max(output, 1)\n",
    "    # compare predictions to true label\n",
    "    correct_tensor = pred.eq(target.data.view_as(pred))\n",
    "    correct = np.squeeze(correct_tensor.numpy()) if not torch.cuda.is_available() else np.squeeze(\n",
    "        correct_tensor.cpu().numpy())\n",
    "    # calculate test accuracy for each object class\n",
    "    for i in range(len(target.data)):\n",
    "        label = target.data[i]\n",
    "        class_correct[label] += correct[i].item()\n",
    "        class_total[label] += 1\n",
    "\n",
    "# average test loss\n",
    "test_loss = test_loss / len(test_loader.dataset)\n",
    "print(f'Итоговое значение функции потерь: {round(test_loss, 6)}')\n",
    "\n",
    "for i in range(num_classes):\n",
    "    if class_total[i] > 0:\n",
    "        print(f'Точность на тестовой выборке класса {class_mapping[i]}: {round(100 * class_correct[i] / class_total[i], 2)}%')\n",
    "    else:\n",
    "        print(f'Точность на тестовой выборке класса {class_mapping[i]}s: N/A (нет обучающих примеров)')\n",
    "\n",
    "print(\n",
    "    f'Полная точность на тестовой выборке: {round(100. * np.sum(class_correct) / np.sum(class_total), 2)}% {np.sum(class_correct)} распознано из {np.sum(class_total)}')\n",
    "\n",
    "output_max = np.array(output_max)\n",
    "output_min = np.array(output_min)\n",
    "print(f\"output_min = {output_min}\\noutput_max = {output_max}\")"
   ]
  },
  {
   "cell_type": "code",
   "execution_count": null,
   "metadata": {},
   "outputs": [],
   "source": []
  },
  {
   "cell_type": "code",
   "execution_count": null,
   "metadata": {},
   "outputs": [],
   "source": []
  },
  {
   "cell_type": "code",
   "execution_count": null,
   "metadata": {},
   "outputs": [],
   "source": []
  },
  {
   "cell_type": "code",
   "execution_count": null,
   "metadata": {},
   "outputs": [],
   "source": []
  }
 ],
 "metadata": {
  "kernelspec": {
   "display_name": "Python 3 (ipykernel)",
   "language": "python",
   "name": "python3"
  },
  "language_info": {
   "codemirror_mode": {
    "name": "ipython",
    "version": 3
   },
   "file_extension": ".py",
   "mimetype": "text/x-python",
   "name": "python",
   "nbconvert_exporter": "python",
   "pygments_lexer": "ipython3",
   "version": "3.8.10"
  }
 },
 "nbformat": 4,
 "nbformat_minor": 1
}
